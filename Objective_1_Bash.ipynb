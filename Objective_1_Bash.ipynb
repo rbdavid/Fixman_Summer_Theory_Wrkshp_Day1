{
 "cells": [
  {
   "cell_type": "markdown",
   "metadata": {},
   "source": [
    "# Introduction to Bash and the Terminal (Putty)\n",
    "\n",
    "1) Open your respective Terminal app (Windows users: Putty).\n",
    "    You will be located in your 'home directory'. Try the lines below:"
   ]
  },
  {
   "cell_type": "raw",
   "metadata": {},
   "source": [
    "pwd\n",
    "cd Documents/\n",
    "pwd"
   ]
  },
  {
   "cell_type": "markdown",
   "metadata": {},
   "source": [
    "pwd (pass working directory): passes the working directory (where you are currently).\n",
    "\n",
    "cd (change directory): changes your working directory to a new directory."
   ]
  },
  {
   "cell_type": "raw",
   "metadata": {},
   "source": [
    "cd ../\n",
    "ls"
   ]
  },
  {
   "cell_type": "markdown",
   "metadata": {},
   "source": [
    "Using 'cd ../' will move your working directory back one directory.\n",
    "\n",
    "ls (list): lists files currently located in your working directory. The ls command has a ton of options... Try:"
   ]
  },
  {
   "cell_type": "raw",
   "metadata": {},
   "source": [
    "ls -ltrh\n",
    "man ls"
   ]
  },
  {
   "cell_type": "markdown",
   "metadata": {},
   "source": [
    "The -ltrh characters are options that you can read into the ls command to alter the format of the command's output. Test each one out individually if interested. \n",
    "\n",
    "man (manual): bash command to 'open' the user's manual on the command input as the second argument. Any bash command will have a manual page. To exit, type in q."
   ]
  },
  {
   "cell_type": "markdown",
   "metadata": {},
   "source": [
    "2) Download the files at ......... . We want to move them from the Downloads directory to the Documents directory. To do so:"
   ]
  },
  {
   "cell_type": "raw",
   "metadata": {},
   "source": [
    "cd Downloads/\n",
    "mv ......... ../Documents/\n",
    "cd ../Documents/"
   ]
  },
  {
   "cell_type": "markdown",
   "metadata": {},
   "source": [
    "mv (move): moves files (first argument) to a new location (second argument)\n",
    "\n",
    "1st line: we changed directory into the Downloads directory\n",
    "\n",
    "2nd line: we moved the files into the Documents directory\n",
    "\n",
    "3rd line: we changed directory into the Documents directory\n"
   ]
  },
  {
   "cell_type": "markdown",
   "metadata": {},
   "source": [
    "The above commands are all important for navigating around your computer within the terminal (putty) app. There are plenty of others that will be covered in more detail throughout the morning (and week). "
   ]
  },
  {
   "cell_type": "markdown",
   "metadata": {},
   "source": [
    "# Introduction to accessing other computers remotely\n",
    "\n",
    "3) Access the Summit computing machine using the 'ssh' command. Note: you will need to have signed up/downloaded the Duo Secure app. To login to Summit:"
   ]
  },
  {
   "cell_type": "raw",
   "metadata": {},
   "source": [
    "ssh csu_eid@colostate.edu@login.rc.colostate.edu\n",
    "password: csu_eid_password,push"
   ]
  },
  {
   "cell_type": "markdown",
   "metadata": {},
   "source": [
    "4) To transfer files from your local computer to Summit:"
   ]
  },
  {
   "cell_type": "raw",
   "metadata": {},
   "source": [
    "scp files_to_be_transferred csu_eid@colostate.edu@login.rc.colostate.edu:/location/to/be/transferred/to/ "
   ]
  },
  {
   "cell_type": "markdown",
   "metadata": {},
   "source": [
    "5) Submitting a job to the Summit cluster:"
   ]
  },
  {
   "cell_type": "raw",
   "metadata": {},
   "source": [
    "sbatch batch_file.job"
   ]
  }
 ],
 "metadata": {
  "kernelspec": {
   "display_name": "Python 2",
   "language": "python",
   "name": "python2"
  },
  "language_info": {
   "codemirror_mode": {
    "name": "ipython",
    "version": 2
   },
   "file_extension": ".py",
   "mimetype": "text/x-python",
   "name": "python",
   "nbconvert_exporter": "python",
   "pygments_lexer": "ipython2",
   "version": "2.7.11"
  }
 },
 "nbformat": 4,
 "nbformat_minor": 0
}

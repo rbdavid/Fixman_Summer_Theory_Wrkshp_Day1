{
 "cells": [
  {
   "cell_type": "markdown",
   "metadata": {},
   "source": [
    "# Data Analysis\n",
    "Now that we have some practice with using the fundamentals of Python, let's apply these fundamentals on a dataset. One example dataset is provided to you in this directory. This data originates from measuring hydrogen bond distances between a Watson-Crick base pair modeled in an all-atom molecular dynamics simulation. If we have enough time, we can visualize this trajectory using VMD (visual molecular dynamics). "
   ]
  },
  {
   "cell_type": "markdown",
   "metadata": {},
   "source": [
    "## Using VMD\n",
    "In a terminal (putty) window, enter in this command:"
   ]
  },
  {
   "cell_type": "raw",
   "metadata": {},
   "source": [
    "cd Trajectory_Data/\n",
    "vmd rna.17bps.vac.prmtop rna.dcd"
   ]
  },
  {
   "cell_type": "markdown",
   "metadata": {},
   "source": [
    "This will open up the VMD software GUI. There are a lot of menus and options to use within this software. I'll highlight the most important options available if we have time. "
   ]
  },
  {
   "cell_type": "markdown",
   "metadata": {},
   "source": [
    "## Using Python To Read A Data File\n",
    "We now have our hydrogen-bonding data file, output from VMD, and we want to read in and analyze the raw data using a Python script. Time to introduce a new variable type! "
   ]
  },
  {
   "cell_type": "code",
   "execution_count": null,
   "metadata": {
    "collapsed": false,
    "scrolled": true
   },
   "outputs": [],
   "source": [
    "data_file = open('Trajectory_Data/hbond.dat')\n",
    "print type(data_file)\n",
    "data_file.close()"
   ]
  },
  {
   "cell_type": "markdown",
   "metadata": {},
   "source": [
    "Our data_file variable is type 'file' and is equivalent to the opened hbond.dat file. Unlike strings and list variables, 'file' variables do not have a length _but_ they are iteratable. To access the data within the variable, we'll need to iterate over the lines in the file. As an example, we could iterate over all the lines in the file and print them. "
   ]
  },
  {
   "cell_type": "code",
   "execution_count": null,
   "metadata": {
    "collapsed": false,
    "scrolled": false
   },
   "outputs": [],
   "source": [
    "data_file = open('Trajectory_Data/hbond.dat')\n",
    "print type(data_file)\n",
    "for line in data_file:\n",
    "    print line, type(line)\n",
    "data_file.close()"
   ]
  },
  {
   "cell_type": "code",
   "execution_count": null,
   "metadata": {
    "collapsed": false,
    "scrolled": true
   },
   "outputs": [],
   "source": [
    "data_file = open('Trajectory_Data/hbond.dat')\n",
    "print type(data_file)\n",
    "for line in data_file:\n",
    "    print line.split(), type(line.split())\n",
    "data_file.close()"
   ]
  },
  {
   "cell_type": "code",
   "execution_count": 52,
   "metadata": {
    "collapsed": false,
    "scrolled": true
   },
   "outputs": [
    {
     "name": "stdout",
     "output_type": "stream",
     "text": [
      "1977.990574 1000\n"
     ]
    }
   ],
   "source": [
    "data_file = open('Trajectory_Data/hbond.dat')\n",
    "dataSum = 0\n",
    "lineCount = 0\n",
    "for line in data_file:\n",
    "    dataSum = dataSum + float(line.split()[1])\n",
    "    lineCount = lineCount + 1\n",
    "data_file.close()\n",
    "print dataSum, lineCount"
   ]
  },
  {
   "cell_type": "code",
   "execution_count": 53,
   "metadata": {
    "collapsed": false,
    "scrolled": true
   },
   "outputs": [
    {
     "name": "stdout",
     "output_type": "stream",
     "text": [
      "Average hydrogen bond distance = 1.977990574\n"
     ]
    }
   ],
   "source": [
    "dataAvg = dataSum/lineCount\n",
    "print 'Average hydrogen bond distance =', dataAvg"
   ]
  },
  {
   "cell_type": "code",
   "execution_count": 55,
   "metadata": {
    "collapsed": false,
    "scrolled": true
   },
   "outputs": [
    {
     "name": "stdout",
     "output_type": "stream",
     "text": [
      "Standard Deviation = 0.13321047324\n"
     ]
    }
   ],
   "source": [
    "dataStdev = 0.\n",
    "data_file = open('Trajectory_Data/hbond.dat')\n",
    "for line in data_file:\n",
    "    temp = float(line.split()[1]) - dataAvg\n",
    "    dataStdev += temp**2\n",
    "data_file.close()\n",
    "print 'Standard Deviation =', (dataStdev/lineCount)**0.5"
   ]
  },
  {
   "cell_type": "markdown",
   "metadata": {},
   "source": [
    "## Note: we had to read the file twice to calculate the average and standard deviation. That's completely unnecessary! Let's do it in one loop."
   ]
  },
  {
   "cell_type": "code",
   "execution_count": null,
   "metadata": {
    "collapsed": false,
    "scrolled": true
   },
   "outputs": [],
   "source": [
    "lineCount = 0\n",
    "dataList = []\n",
    "data_file = open('Trajectory_Data/hbond.dat')\n",
    "for line in data_file:\n",
    "    dataList.append(float(line.split()[1]))\n",
    "    lineCount += 1\n",
    "data_file.close()\n",
    "print type(dataList)\n",
    "dataAvg = sum(dataList)/lineCount\n",
    "\n",
    "dataStdev = 0.\n",
    "for i in dataList:\n",
    "    temp = i - dataAvg\n",
    "    dataStdev += temp**2\n",
    "\n",
    "print 'Average hydrogen bond distance =', dataAvg\n",
    "print 'Standard Deviation = ', (dataStdev/lineCount)**0.5"
   ]
  },
  {
   "cell_type": "markdown",
   "metadata": {},
   "source": [
    "## To be honest, we can read this file even more quickly. And, we'll introduce an important tool that we can use within Python scripts as well."
   ]
  },
  {
   "cell_type": "code",
   "execution_count": null,
   "metadata": {
    "collapsed": false,
    "scrolled": true
   },
   "outputs": [],
   "source": [
    "import numpy as np # numpy = numerical python\n",
    "data = np.loadtxt('Trajectory_Data/hbond.dat')\n",
    "\n",
    "print type(data)\n",
    "print data[0:10]\n",
    "print data[0:10,1]"
   ]
  },
  {
   "cell_type": "markdown",
   "metadata": {},
   "source": [
    "Using the numpy 'module', we can easily load in data files (assuming a regular file format). Using numpy __loadtxt__ function, we create a numpy.ndarray variable (called data). This array behaves very similarly to a list; it has a length and is indexable. But a numpy.ndarray variable has more functionality than a regular list does."
   ]
  },
  {
   "cell_type": "code",
   "execution_count": 58,
   "metadata": {
    "collapsed": false,
    "scrolled": true
   },
   "outputs": [
    {
     "name": "stdout",
     "output_type": "stream",
     "text": [
      "Number of lines in file = 1000\n",
      "Average hydrogen bonding distance = 1.977990574\n",
      "Standard Deviation = 0.13321047324\n"
     ]
    }
   ],
   "source": [
    "lineCount = len(data)\n",
    "dataStdev = np.std(data[:,1])\n",
    "dataAvg = np.mean(data[:,1])\n",
    "print 'Number of lines in file =', lineCount\n",
    "print 'Average hydrogen bonding distance =', dataAvg\n",
    "print 'Standard Deviation =', dataStdev "
   ]
  }
 ],
 "metadata": {
  "kernelspec": {
   "display_name": "Python 2",
   "language": "python",
   "name": "python2"
  },
  "language_info": {
   "codemirror_mode": {
    "name": "ipython",
    "version": 2
   },
   "file_extension": ".py",
   "mimetype": "text/x-python",
   "name": "python",
   "nbconvert_exporter": "python",
   "pygments_lexer": "ipython2",
   "version": "2.7.11"
  }
 },
 "nbformat": 4,
 "nbformat_minor": 0
}

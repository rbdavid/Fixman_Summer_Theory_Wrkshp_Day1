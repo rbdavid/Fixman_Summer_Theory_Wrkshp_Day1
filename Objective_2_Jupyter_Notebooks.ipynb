{
 "cells": [
  {
   "cell_type": "markdown",
   "metadata": {},
   "source": [
    "# Using Jupyter Notebooks\n",
    "Make some statement about the utility of these files...\n",
    "\n",
    "\n",
    "In a terminal, run these lines:"
   ]
  },
  {
   "cell_type": "raw",
   "metadata": {},
   "source": [
    "cd Documents/Fixman_Summer_Theory_Wrkshp_Day1/\n",
    "jupyter notebook"
   ]
  },
  {
   "cell_type": "markdown",
   "metadata": {},
   "source": [
    "Running these lines will open up a web browser window/tab that allows for easy viewing of and editing of files in the the local directories. ..."
   ]
  },
  {
   "cell_type": "code",
   "execution_count": null,
   "metadata": {
    "collapsed": true
   },
   "outputs": [],
   "source": []
  }
 ],
 "metadata": {
  "kernelspec": {
   "display_name": "Python 2",
   "language": "python",
   "name": "python2"
  },
  "language_info": {
   "codemirror_mode": {
    "name": "ipython",
    "version": 2
   },
   "file_extension": ".py",
   "mimetype": "text/x-python",
   "name": "python",
   "nbconvert_exporter": "python",
   "pygments_lexer": "ipython2",
   "version": "2.7.11"
  }
 },
 "nbformat": 4,
 "nbformat_minor": 0
}

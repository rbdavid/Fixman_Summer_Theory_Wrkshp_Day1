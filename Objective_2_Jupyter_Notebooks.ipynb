{
 "cells": [
  {
   "cell_type": "markdown",
   "metadata": {},
   "source": [
    "# Using Jupyter Notebooks\n",
    "Jupyter Notebooks are a user-friendly interface that can be used to write code, take formatted (or unformatted) notes, present data, etc. \n",
    "\n",
    "In a terminal, run these lines to open up a Jupyter Notebook:"
   ]
  },
  {
   "cell_type": "raw",
   "metadata": {},
   "source": [
    "jupyter notebook"
   ]
  },
  {
   "cell_type": "markdown",
   "metadata": {},
   "source": [
    "Running that line will open up a web browser window/tab that allows for easy viewing and editing of files in the local directory tree. From this web browser, we can create new files of various types. For today and, generally, for this class, we'll be creating and using Python 2 notebooks. Go ahead and open a Python 2 notebook (via the New pull down menu). "
   ]
  },
  {
   "cell_type": "code",
   "execution_count": 2,
   "metadata": {
    "collapsed": false
   },
   "outputs": [
    {
     "name": "stdout",
     "output_type": "stream",
     "text": [
      "hello world\n"
     ]
    }
   ],
   "source": [
    "print 'hello world'"
   ]
  },
  {
   "cell_type": "markdown",
   "metadata": {},
   "source": [
    "# Create a header\n",
    "## Something else\n",
    "\n",
    "$\\psi \\phi$"
   ]
  },
  {
   "cell_type": "raw",
   "metadata": {},
   "source": [
    "print something"
   ]
  },
  {
   "cell_type": "code",
   "execution_count": 7,
   "metadata": {
    "collapsed": false
   },
   "outputs": [
    {
     "name": "stdout",
     "output_type": "stream",
     "text": [
      "[1, 2, 3, 4, 5, 6, 7, 8, 9, 10]\n",
      "[1, 2, 3, 4, 5, 6, 7, 8, 9, 10]\n",
      "\n",
      "hello world\n",
      "hello worldhello world\n",
      "hello worldhello worldhello world\n",
      "hello worldhello worldhello worldhello world\n",
      "hello worldhello worldhello worldhello worldhello world\n",
      "hello worldhello worldhello worldhello worldhello worldhello world\n",
      "hello worldhello worldhello worldhello worldhello worldhello worldhello world\n",
      "hello worldhello worldhello worldhello worldhello worldhello worldhello worldhello world\n",
      "hello worldhello worldhello worldhello worldhello worldhello worldhello worldhello worldhello world\n"
     ]
    }
   ],
   "source": [
    "string = 'hello world'\n",
    "print range(1,10+1)\n",
    "print list(range(1,10+1))\n",
    "for a in range(10):\n",
    "    print string*a"
   ]
  },
  {
   "cell_type": "code",
   "execution_count": null,
   "metadata": {
    "collapsed": true
   },
   "outputs": [],
   "source": []
  }
 ],
 "metadata": {
  "kernelspec": {
   "display_name": "Python 2",
   "language": "python",
   "name": "python2"
  },
  "language_info": {
   "codemirror_mode": {
    "name": "ipython",
    "version": 2
   },
   "file_extension": ".py",
   "mimetype": "text/x-python",
   "name": "python",
   "nbconvert_exporter": "python",
   "pygments_lexer": "ipython2",
   "version": "2.7.11"
  }
 },
 "nbformat": 4,
 "nbformat_minor": 0
}

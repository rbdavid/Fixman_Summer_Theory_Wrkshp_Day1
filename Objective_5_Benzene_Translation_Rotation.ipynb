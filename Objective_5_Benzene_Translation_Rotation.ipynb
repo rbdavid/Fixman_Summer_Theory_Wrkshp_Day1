{
 "cells": [
  {
   "cell_type": "markdown",
   "metadata": {
    "slideshow": {
     "slide_type": "slide"
    }
   },
   "source": [
    "# Project: Alter Molecular Structures Using Python\n",
    "In the remaining time that we have, we will be using Python to take a starting structure of a molecule (benzene) and then shifting and rotating the molecule in three dimensional space. This work will be in preparation for the afternoon's project: __Adapt python code to create a system of user-defined number of benzene molecules with random orientations and no overlap between molecules.__ "
   ]
  },
  {
   "cell_type": "markdown",
   "metadata": {
    "slideshow": {
     "slide_type": "fragment"
    }
   },
   "source": [
    "## Before beginning to code, we should visualize the benzene molecule.\n",
    "We can visualize the molecular geometry of benzene using VMD:"
   ]
  },
  {
   "cell_type": "markdown",
   "metadata": {
    "slideshow": {
     "slide_type": "fragment"
    }
   },
   "source": [
    "vmd Benzene_structure/benzene.xyz"
   ]
  },
  {
   "cell_type": "markdown",
   "metadata": {
    "slideshow": {
     "slide_type": "fragment"
    }
   },
   "source": [
    "Additionally, we should look at the data file (benzene.xyz) to see the format of the file."
   ]
  },
  {
   "cell_type": "markdown",
   "metadata": {
    "slideshow": {
     "slide_type": "slide"
    }
   },
   "source": [
    "# Translate the benzene molecule in space\n",
    "## Code Outline: \n",
    "1) Read in the xyz file, saving atom names and original positions.\n",
    "\n",
    "2) Shift the original atomic positions by a user-defined value.\n",
    "\n",
    "3) Output an xyz file with the new positions."
   ]
  },
  {
   "cell_type": "markdown",
   "metadata": {
    "slideshow": {
     "slide_type": "subslide"
    }
   },
   "source": [
    "### User Defined variables"
   ]
  },
  {
   "cell_type": "code",
   "execution_count": 18,
   "metadata": {
    "collapsed": true,
    "slideshow": {
     "slide_type": "fragment"
    }
   },
   "outputs": [],
   "source": [
    "import numpy as np\n",
    "\n",
    "shift = 5.00 # units of angstroms\n",
    "xyzInputFile = 'Benzene_structure/benzene.xyz'\n",
    "xyzOutputFile = 'Benzene_structure/benzene_shift_5.0.xyz'"
   ]
  },
  {
   "cell_type": "markdown",
   "metadata": {
    "slideshow": {
     "slide_type": "subslide"
    }
   },
   "source": [
    "### Read an XYZ file"
   ]
  },
  {
   "cell_type": "code",
   "execution_count": 25,
   "metadata": {
    "collapsed": false,
    "slideshow": {
     "slide_type": "fragment"
    }
   },
   "outputs": [
    {
     "name": "stdout",
     "output_type": "stream",
     "text": [
      "12 14\n",
      "['C1', 'H1', 'C2', 'H2', 'C3', 'H3', 'C4', 'H4', 'C5', 'H5', 'C6', 'H6']\n",
      "[[ 1.45   0.     0.   ]\n",
      " [ 2.45   0.     0.   ]\n",
      " [ 0.75  -1.212  0.   ]\n",
      " [ 1.25  -2.078  0.   ]\n",
      " [-0.75  -1.212  0.   ]\n",
      " [-1.25  -2.078  0.   ]\n",
      " [-1.45   0.     0.   ]\n",
      " [-2.45   0.     0.   ]\n",
      " [-0.75   1.212  0.   ]\n",
      " [-1.25   2.078  0.   ]\n",
      " [ 0.75   1.212  0.   ]\n",
      " [ 1.25   2.078  0.   ]]\n"
     ]
    }
   ],
   "source": [
    "xyz_file = open('Benzene_structure/benzene.xyz','r')\n",
    "lineCount = 0\n",
    "atomCount = 0\n",
    "atomNames = []\n",
    "\n",
    "for line in xyz_file:\n",
    "    if lineCount == 0:\n",
    "        nAtoms = int(line)\n",
    "        positions = np.empty((nAtoms,3),dtype=float) # np.empty creates an empty numpy.ndarray that can be filled\n",
    "    elif lineCount > 1:  # we want to skip over the 2nd line (lineCount = 1) because it holds no important information\n",
    "        split_line = line.split()\n",
    "        atomNames.append(split_line[0])\n",
    "        for k in range(3):\n",
    "            positions[atomCount,k] = float(split_line[k+1])\n",
    "        atomCount += 1\n",
    "    lineCount += 1\n",
    "\n",
    "xyz_file.close()\n",
    "\n",
    "print atomCount, lineCount\n",
    "print atomNames\n",
    "print positions"
   ]
  },
  {
   "cell_type": "markdown",
   "metadata": {
    "slideshow": {
     "slide_type": "subslide"
    }
   },
   "source": [
    "### Shift atomic positions"
   ]
  },
  {
   "cell_type": "code",
   "execution_count": 26,
   "metadata": {
    "collapsed": false,
    "slideshow": {
     "slide_type": "fragment"
    }
   },
   "outputs": [
    {
     "name": "stdout",
     "output_type": "stream",
     "text": [
      "[[ 6.45   5.     5.   ]\n",
      " [ 7.45   5.     5.   ]\n",
      " [ 5.75   3.788  5.   ]\n",
      " [ 6.25   2.922  5.   ]\n",
      " [ 4.25   3.788  5.   ]\n",
      " [ 3.75   2.922  5.   ]\n",
      " [ 3.55   5.     5.   ]\n",
      " [ 2.55   5.     5.   ]\n",
      " [ 4.25   6.212  5.   ]\n",
      " [ 3.75   7.078  5.   ]\n",
      " [ 5.75   6.212  5.   ]\n",
      " [ 6.25   7.078  5.   ]]\n"
     ]
    }
   ],
   "source": [
    "positions += shift\n",
    "print positions"
   ]
  },
  {
   "cell_type": "markdown",
   "metadata": {
    "slideshow": {
     "slide_type": "subslide"
    }
   },
   "source": [
    "### Output the new positions"
   ]
  },
  {
   "cell_type": "code",
   "execution_count": 27,
   "metadata": {
    "collapsed": true,
    "slideshow": {
     "slide_type": "fragment"
    }
   },
   "outputs": [],
   "source": [
    "outputFile = open(xyzOutputFile,'w')\n",
    "outputFile.write('%10d\\n'%(nAtoms))\n",
    "outputFile.write('Translated Molecule\\n')\n",
    "for atom in range(nAtoms):\n",
    "    outputFile.write('%5s %10.5f %10.5f %10.5f\\n'%(atomNames[atom],positions[atom,0],positions[atom,1],positions[atom,2]))\n",
    "outputFile.close()"
   ]
  },
  {
   "cell_type": "markdown",
   "metadata": {
    "slideshow": {
     "slide_type": "fragment"
    }
   },
   "source": [
    "### How does this molecule look? What did we just do?"
   ]
  },
  {
   "cell_type": "markdown",
   "metadata": {
    "slideshow": {
     "slide_type": "slide"
    }
   },
   "source": [
    "# Rotate the benzene molecule in space \n",
    "## Code Outline: \n",
    "1) Read in the xyz file, saving atom names and original positions.\n",
    "\n",
    "2) With a user-defined angle of rotation, perform rotations of the molecule in the x,y, and z dimensions.\n",
    "\n",
    "3) Output an xyz file with the new atomic positions."
   ]
  },
  {
   "cell_type": "markdown",
   "metadata": {
    "slideshow": {
     "slide_type": "subslide"
    }
   },
   "source": [
    "### User Defined variables"
   ]
  },
  {
   "cell_type": "code",
   "execution_count": 83,
   "metadata": {
    "collapsed": true,
    "slideshow": {
     "slide_type": "fragment"
    }
   },
   "outputs": [],
   "source": [
    "import numpy as np\n",
    "import rotation_functions\n",
    "\n",
    "degrees_to_radians = np.pi/180.\n",
    "\n",
    "xyzInputFile = 'Benzene_structure/benzene.xyz'\n",
    "xyzOutputFile = 'Benzene_structure/benzene_rotated_60deg.xyz'\n",
    "rotTheta = 60. * degrees_to_radians"
   ]
  },
  {
   "cell_type": "markdown",
   "metadata": {
    "slideshow": {
     "slide_type": "subslide"
    }
   },
   "source": [
    "### Read an XYZ file"
   ]
  },
  {
   "cell_type": "code",
   "execution_count": 84,
   "metadata": {
    "collapsed": false,
    "slideshow": {
     "slide_type": "fragment"
    }
   },
   "outputs": [
    {
     "name": "stdout",
     "output_type": "stream",
     "text": [
      "12 14\n",
      "['C1', 'H1', 'C2', 'H2', 'C3', 'H3', 'C4', 'H4', 'C5', 'H5', 'C6', 'H6']\n",
      "[[ 1.45   0.     0.   ]\n",
      " [ 2.45   0.     0.   ]\n",
      " [ 0.75  -1.212  0.   ]\n",
      " [ 1.25  -2.078  0.   ]\n",
      " [-0.75  -1.212  0.   ]\n",
      " [-1.25  -2.078  0.   ]\n",
      " [-1.45   0.     0.   ]\n",
      " [-2.45   0.     0.   ]\n",
      " [-0.75   1.212  0.   ]\n",
      " [-1.25   2.078  0.   ]\n",
      " [ 0.75   1.212  0.   ]\n",
      " [ 1.25   2.078  0.   ]]\n"
     ]
    }
   ],
   "source": [
    "xyz_file = open('Benzene_structure/benzene.xyz','r')\n",
    "lineCount = 0\n",
    "atomCount = 0\n",
    "atomNames = []\n",
    "\n",
    "for line in xyz_file:\n",
    "    if lineCount == 0:\n",
    "        nAtoms = int(line)\n",
    "        positions = np.empty((nAtoms,3),dtype=float) # np.empty creates an empty numpy.ndarray that can be filled\n",
    "    elif lineCount > 1:  # we want to skip over the 2nd line (lineCount = 1) because it holds no important information\n",
    "        split_line = line.split()\n",
    "        atomNames.append(split_line[0])\n",
    "        for k in range(3):\n",
    "            positions[atomCount,k] = float(split_line[k+1])\n",
    "        atomCount += 1\n",
    "    lineCount += 1\n",
    "\n",
    "xyz_file.close()\n",
    "\n",
    "print atomCount, lineCount\n",
    "print atomNames\n",
    "print positions"
   ]
  },
  {
   "cell_type": "markdown",
   "metadata": {
    "collapsed": true,
    "slideshow": {
     "slide_type": "subslide"
    }
   },
   "source": [
    "### Rotate the molecule (using prewritten functions)"
   ]
  },
  {
   "cell_type": "code",
   "execution_count": 85,
   "metadata": {
    "collapsed": false,
    "slideshow": {
     "slide_type": "fragment"
    }
   },
   "outputs": [
    {
     "name": "stdout",
     "output_type": "stream",
     "text": [
      "[[ 0.3625     -0.62786842  1.25573684]\n",
      " [ 0.6125     -1.06088112  2.12176224]\n",
      " [-0.79181139  0.15945757  1.17433045]\n",
      " [-1.36655039  0.28893471  1.98233215]\n",
      " [-1.16681139  0.80897662 -0.12470766]\n",
      " [-1.99155039  1.37146647 -0.18273136]\n",
      " [-0.3625      0.62786842 -1.25573684]\n",
      " [-0.6125      1.06088112 -2.12176224]\n",
      " [ 0.79181139 -0.15945757 -1.17433045]\n",
      " [ 1.36655039 -0.28893471 -1.98233215]\n",
      " [ 1.16681139 -0.80897662  0.12470766]\n",
      " [ 1.99155039 -1.37146647  0.18273136]]\n"
     ]
    }
   ],
   "source": [
    "positions = rotation_functions.rot_x(positions,rotTheta)\n",
    "positions = rotation_functions.rot_y(positions,rotTheta)\n",
    "positions = rotation_functions.rot_z(positions,rotTheta)\n",
    "print positions"
   ]
  },
  {
   "cell_type": "markdown",
   "metadata": {
    "slideshow": {
     "slide_type": "fragment"
    }
   },
   "source": [
    "#### Hint at randomizing the rotation: look into np.random.rand() and don't forget units! "
   ]
  },
  {
   "cell_type": "markdown",
   "metadata": {
    "slideshow": {
     "slide_type": "subslide"
    }
   },
   "source": [
    "### Output the new positions"
   ]
  },
  {
   "cell_type": "code",
   "execution_count": 86,
   "metadata": {
    "collapsed": false,
    "slideshow": {
     "slide_type": "fragment"
    }
   },
   "outputs": [],
   "source": [
    "outputFile = open(xyzOutputFile,'w')\n",
    "outputFile.write('%10d\\n'%(nAtoms))\n",
    "outputFile.write('Translated Molecule\\n')\n",
    "for atom in range(nAtoms):\n",
    "    outputFile.write('%5s %10.5f %10.5f %10.5f\\n'%(atomNames[atom],positions[atom,0],positions[atom,1],positions[atom,2]))\n",
    "outputFile.close()"
   ]
  },
  {
   "cell_type": "markdown",
   "metadata": {
    "slideshow": {
     "slide_type": "slide"
    }
   },
   "source": [
    "# Create an XYZ file with multiple copies of benzene w/ no overlaps \n",
    "## Code Outline: \n",
    "1) Read in the xyz file, saving atom names and original positions.\n",
    "\n",
    "2) Based on the number of copies desired, shift the original atomic positions by a user-defined value. __This will require a more complex approach than was used above.__\n",
    "\n",
    "3) Output an xyz file with the new positions. We'll need to edit this code a bit to fix naming of variables."
   ]
  },
  {
   "cell_type": "markdown",
   "metadata": {
    "slideshow": {
     "slide_type": "subslide"
    }
   },
   "source": [
    "### User Defined variables"
   ]
  },
  {
   "cell_type": "code",
   "execution_count": 74,
   "metadata": {
    "collapsed": true,
    "slideshow": {
     "slide_type": "fragment"
    }
   },
   "outputs": [],
   "source": [
    "import numpy as np\n",
    "\n",
    "shift = 5.00 # distance between each copy of benzene; to be applied in all three dimensions; units of angstroms\n",
    "xyzInputFile = 'Benzene_structure/benzene.xyz'\n",
    "xyzOutputFile = 'Benzene_structure/multi_benzene.xyz'\n",
    "copies = 27 # should have an integer cube root; we're creating a cube of benzene."
   ]
  },
  {
   "cell_type": "markdown",
   "metadata": {
    "slideshow": {
     "slide_type": "subslide"
    }
   },
   "source": [
    "### Read an XYZ file"
   ]
  },
  {
   "cell_type": "code",
   "execution_count": 75,
   "metadata": {
    "collapsed": false,
    "slideshow": {
     "slide_type": "fragment"
    }
   },
   "outputs": [
    {
     "name": "stdout",
     "output_type": "stream",
     "text": [
      "12 14\n",
      "['C1', 'H1', 'C2', 'H2', 'C3', 'H3', 'C4', 'H4', 'C5', 'H5', 'C6', 'H6']\n",
      "[[ 1.45   0.     0.   ]\n",
      " [ 2.45   0.     0.   ]\n",
      " [ 0.75  -1.212  0.   ]\n",
      " [ 1.25  -2.078  0.   ]\n",
      " [-0.75  -1.212  0.   ]\n",
      " [-1.25  -2.078  0.   ]\n",
      " [-1.45   0.     0.   ]\n",
      " [-2.45   0.     0.   ]\n",
      " [-0.75   1.212  0.   ]\n",
      " [-1.25   2.078  0.   ]\n",
      " [ 0.75   1.212  0.   ]\n",
      " [ 1.25   2.078  0.   ]]\n"
     ]
    }
   ],
   "source": [
    "xyz_file = open('Benzene_structure/benzene.xyz','r')\n",
    "lineCount = 0\n",
    "atomCount = 0\n",
    "atomNames = []\n",
    "\n",
    "for line in xyz_file:\n",
    "    if lineCount == 0:\n",
    "        nAtoms = int(line)\n",
    "        positions = np.empty((nAtoms,3),dtype=float) # np.empty creates an empty numpy.ndarray that can be filled\n",
    "    elif lineCount > 1:  # we want to skip over the 2nd line (lineCount = 1) because it holds no important information\n",
    "        split_line = line.split()\n",
    "        atomNames.append(split_line[0])\n",
    "        for k in range(3):\n",
    "            positions[atomCount,k] = float(split_line[k+1])\n",
    "        atomCount += 1\n",
    "    lineCount += 1\n",
    "\n",
    "xyz_file.close()\n",
    "\n",
    "print atomCount, lineCount\n",
    "print atomNames\n",
    "print positions"
   ]
  },
  {
   "cell_type": "markdown",
   "metadata": {
    "slideshow": {
     "slide_type": "subslide"
    }
   },
   "source": [
    "### Shift atomic positions"
   ]
  },
  {
   "cell_type": "code",
   "execution_count": 76,
   "metadata": {
    "collapsed": false,
    "slideshow": {
     "slide_type": "fragment"
    }
   },
   "outputs": [
    {
     "name": "stdout",
     "output_type": "stream",
     "text": [
      "['C1', 'H1', 'C2', 'H2', 'C3', 'H3', 'C4', 'H4', 'C5', 'H5', 'C6', 'H6', 'C1', 'H1', 'C2', 'H2', 'C3', 'H3', 'C4', 'H4', 'C5', 'H5', 'C6', 'H6', 'C1', 'H1', 'C2', 'H2', 'C3', 'H3', 'C4', 'H4', 'C5', 'H5', 'C6', 'H6', 'C1', 'H1', 'C2', 'H2', 'C3', 'H3', 'C4', 'H4', 'C5', 'H5', 'C6', 'H6', 'C1', 'H1', 'C2', 'H2', 'C3', 'H3', 'C4', 'H4', 'C5', 'H5', 'C6', 'H6', 'C1', 'H1', 'C2', 'H2', 'C3', 'H3', 'C4', 'H4', 'C5', 'H5', 'C6', 'H6', 'C1', 'H1', 'C2', 'H2', 'C3', 'H3', 'C4', 'H4', 'C5', 'H5', 'C6', 'H6', 'C1', 'H1', 'C2', 'H2', 'C3', 'H3', 'C4', 'H4', 'C5', 'H5', 'C6', 'H6', 'C1', 'H1', 'C2', 'H2', 'C3', 'H3', 'C4', 'H4', 'C5', 'H5', 'C6', 'H6', 'C1', 'H1', 'C2', 'H2', 'C3', 'H3', 'C4', 'H4', 'C5', 'H5', 'C6', 'H6', 'C1', 'H1', 'C2', 'H2', 'C3', 'H3', 'C4', 'H4', 'C5', 'H5', 'C6', 'H6', 'C1', 'H1', 'C2', 'H2', 'C3', 'H3', 'C4', 'H4', 'C5', 'H5', 'C6', 'H6', 'C1', 'H1', 'C2', 'H2', 'C3', 'H3', 'C4', 'H4', 'C5', 'H5', 'C6', 'H6', 'C1', 'H1', 'C2', 'H2', 'C3', 'H3', 'C4', 'H4', 'C5', 'H5', 'C6', 'H6', 'C1', 'H1', 'C2', 'H2', 'C3', 'H3', 'C4', 'H4', 'C5', 'H5', 'C6', 'H6', 'C1', 'H1', 'C2', 'H2', 'C3', 'H3', 'C4', 'H4', 'C5', 'H5', 'C6', 'H6', 'C1', 'H1', 'C2', 'H2', 'C3', 'H3', 'C4', 'H4', 'C5', 'H5', 'C6', 'H6', 'C1', 'H1', 'C2', 'H2', 'C3', 'H3', 'C4', 'H4', 'C5', 'H5', 'C6', 'H6', 'C1', 'H1', 'C2', 'H2', 'C3', 'H3', 'C4', 'H4', 'C5', 'H5', 'C6', 'H6', 'C1', 'H1', 'C2', 'H2', 'C3', 'H3', 'C4', 'H4', 'C5', 'H5', 'C6', 'H6', 'C1', 'H1', 'C2', 'H2', 'C3', 'H3', 'C4', 'H4', 'C5', 'H5', 'C6', 'H6', 'C1', 'H1', 'C2', 'H2', 'C3', 'H3', 'C4', 'H4', 'C5', 'H5', 'C6', 'H6', 'C1', 'H1', 'C2', 'H2', 'C3', 'H3', 'C4', 'H4', 'C5', 'H5', 'C6', 'H6', 'C1', 'H1', 'C2', 'H2', 'C3', 'H3', 'C4', 'H4', 'C5', 'H5', 'C6', 'H6', 'C1', 'H1', 'C2', 'H2', 'C3', 'H3', 'C4', 'H4', 'C5', 'H5', 'C6', 'H6', 'C1', 'H1', 'C2', 'H2', 'C3', 'H3', 'C4', 'H4', 'C5', 'H5', 'C6', 'H6', 'C1', 'H1', 'C2', 'H2', 'C3', 'H3', 'C4', 'H4', 'C5', 'H5', 'C6', 'H6'] 324 3\n"
     ]
    }
   ],
   "source": [
    "multiAtomNames = atomNames*copies\n",
    "nAtoms = len(multiAtomNames)\n",
    "nXYZ = int(float(copies)**0.333333333)+1 # number of rows in each dimension\n",
    "print multiAtomNames, len(multiAtomNames), nXYZ"
   ]
  },
  {
   "cell_type": "code",
   "execution_count": 77,
   "metadata": {
    "collapsed": false,
    "slideshow": {
     "slide_type": "fragment"
    }
   },
   "outputs": [
    {
     "name": "stdout",
     "output_type": "stream",
     "text": [
      "108\n"
     ]
    }
   ],
   "source": [
    "shift_xyz = np.empty(3,dtype=float)\n",
    "for x in range(nXYZ):\n",
    "    shift_xyz[0] = x*shift\n",
    "    for y in range(nXYZ):\n",
    "        shift_xyz[1] = y*shift\n",
    "        for z in range(nXYZ):\n",
    "            shift_xyz[2] = z*shift\n",
    "            if x == 0 and y == 0 and z == 0:\n",
    "                multiPositions = positions\n",
    "            else:\n",
    "                newPositions = positions + shift_xyz\n",
    "                multiPositions = np.append(multiPositions,newPositions,axis=0)\n",
    "\n",
    "print len(multiPositions)/3"
   ]
  },
  {
   "cell_type": "markdown",
   "metadata": {
    "slideshow": {
     "slide_type": "subslide"
    }
   },
   "source": [
    "### Output the new positions"
   ]
  },
  {
   "cell_type": "code",
   "execution_count": 78,
   "metadata": {
    "collapsed": true,
    "slideshow": {
     "slide_type": "fragment"
    }
   },
   "outputs": [],
   "source": [
    "outputFile = open(xyzOutputFile,'w')\n",
    "outputFile.write('%10d\\n'%(nAtoms))\n",
    "outputFile.write('Translated, Copied Molecules\\n')\n",
    "for atom in range(nAtoms):\n",
    "    outputFile.write('%5s %10.5f %10.5f %10.5f\\n'%(multiAtomNames[atom],multiPositions[atom,0],multiPositions[atom,1],multiPositions[atom,2]))\n",
    "outputFile.close()"
   ]
  }
 ],
 "metadata": {
  "celltoolbar": "Slideshow",
  "kernelspec": {
   "display_name": "Python 2",
   "language": "python",
   "name": "python2"
  },
  "language_info": {
   "codemirror_mode": {
    "name": "ipython",
    "version": 2
   },
   "file_extension": ".py",
   "mimetype": "text/x-python",
   "name": "python",
   "nbconvert_exporter": "python",
   "pygments_lexer": "ipython2",
   "version": "2.7.11"
  }
 },
 "nbformat": 4,
 "nbformat_minor": 0
}

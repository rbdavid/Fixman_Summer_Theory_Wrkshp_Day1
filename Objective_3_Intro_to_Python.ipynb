{
 "cells": [
  {
   "cell_type": "markdown",
   "metadata": {},
   "source": [
    "# Introduction to Python\n",
    "Python is a broadly used programming language that is regarded as being user friendly (aka easy to write and read python code). During this workshop, we will be using Python as a tool for scripting analyses of chemical systems. Before we can apply Python coding to our chemistry, we must first learn some important basics of the language. So, let's begin! "
   ]
  },
  {
   "cell_type": "markdown",
   "metadata": {},
   "source": [
    "## Starting point: \"Hello World\""
   ]
  },
  {
   "cell_type": "code",
   "execution_count": 61,
   "metadata": {
    "collapsed": false
   },
   "outputs": [
    {
     "name": "stdout",
     "output_type": "stream",
     "text": [
      "hello world\n"
     ]
    }
   ],
   "source": [
    "print \"hello world\""
   ]
  },
  {
   "cell_type": "markdown",
   "metadata": {},
   "source": [
    "## Defining Variables\n",
    "We've seen that boring piece of code before. Let's make this more interesting by defining a variable:"
   ]
  },
  {
   "cell_type": "code",
   "execution_count": 62,
   "metadata": {
    "collapsed": false
   },
   "outputs": [
    {
     "name": "stdout",
     "output_type": "stream",
     "text": [
      "hello world\n"
     ]
    }
   ],
   "source": [
    "string = \"hello world\"\n",
    "print string"
   ]
  },
  {
   "cell_type": "markdown",
   "metadata": {},
   "source": [
    "In the above example, we _assigned a value to a variable_. What I mean by that is: we defined a variable (called string) that we made equal to \"hello world\". Printing string returned the expected \"hello world\". \n",
    "\n",
    "#### Why should we use variables? "
   ]
  },
  {
   "cell_type": "markdown",
   "metadata": {},
   "source": [
    "## Variable Types\n",
    "Variables can have many 'types' and each 'type' has various functionalities (you'll see what I mean as we move through this tutorial). To see the 'type' of a _variable_, use the python function __type(__ _variable_ __)__."
   ]
  },
  {
   "cell_type": "code",
   "execution_count": 10,
   "metadata": {
    "collapsed": false
   },
   "outputs": [
    {
     "name": "stdout",
     "output_type": "stream",
     "text": [
      "hello world <type 'str'>\n"
     ]
    }
   ],
   "source": [
    "print string, type(string)"
   ]
  },
  {
   "cell_type": "code",
   "execution_count": 37,
   "metadata": {
    "collapsed": false
   },
   "outputs": [
    {
     "name": "stdout",
     "output_type": "stream",
     "text": [
      "8 <type 'int'>\n"
     ]
    }
   ],
   "source": [
    "integer = 8\n",
    "print integer, type(integer)"
   ]
  },
  {
   "cell_type": "code",
   "execution_count": 38,
   "metadata": {
    "collapsed": false
   },
   "outputs": [
    {
     "name": "stdout",
     "output_type": "stream",
     "text": [
      "8.0000000001 <type 'float'>\n"
     ]
    }
   ],
   "source": [
    "float = 8.0000000001\n",
    "print float, type(float)"
   ]
  },
  {
   "cell_type": "code",
   "execution_count": 24,
   "metadata": {
    "collapsed": false
   },
   "outputs": [
    {
     "name": "stdout",
     "output_type": "stream",
     "text": [
      "True <type 'bool'>\n"
     ]
    }
   ],
   "source": [
    "boolean = True\n",
    "print boolean, type(boolean)"
   ]
  },
  {
   "cell_type": "markdown",
   "metadata": {},
   "source": [
    "So far, we've seen examples of __'str'__, __'int'__, __'float'__, and __'bool'__ types but there are many possible variable types. We won't cover them all here. Instead, let's cover some basics that delineate these variable types. For example:"
   ]
  },
  {
   "cell_type": "code",
   "execution_count": 41,
   "metadata": {
    "collapsed": false
   },
   "outputs": [
    {
     "name": "stdout",
     "output_type": "stream",
     "text": [
      "8 8.0000000001\n",
      "False <type 'bool'>\n"
     ]
    }
   ],
   "source": [
    "print integer, float\n",
    "print integer == float, type(integer == float)"
   ]
  },
  {
   "cell_type": "code",
   "execution_count": 54,
   "metadata": {
    "collapsed": false
   },
   "outputs": [
    {
     "name": "stdout",
     "output_type": "stream",
     "text": [
      "8\n",
      "False\n",
      "False\n"
     ]
    }
   ],
   "source": [
    "string = \"8\"\n",
    "print string\n",
    "print integer == string\n",
    "print float == string"
   ]
  },
  {
   "cell_type": "markdown",
   "metadata": {},
   "source": [
    "Python interprets the __str__ '8', the __int__ 8, and the __float__ 8.0000000001 to be all different values. It is good practice to always know the 'type' of variable that you are working with when coding in Python."
   ]
  },
  {
   "cell_type": "markdown",
   "metadata": {},
   "source": [
    "#### Aside: \n",
    "Can anyone explain the below results?"
   ]
  },
  {
   "cell_type": "code",
   "execution_count": 45,
   "metadata": {
    "collapsed": false
   },
   "outputs": [
    {
     "name": "stdout",
     "output_type": "stream",
     "text": [
      "False True\n",
      "True False\n",
      "False False\n"
     ]
    }
   ],
   "source": [
    "print True == 0, False == 0\n",
    "print True == 1, False == 1\n",
    "print True == 2, False == 2"
   ]
  },
  {
   "cell_type": "markdown",
   "metadata": {},
   "source": [
    "## Strings have a length!\n",
    "Variables of type __str__ have a length. We can measure this length using the python function __len(__ _str_ __)__."
   ]
  },
  {
   "cell_type": "code",
   "execution_count": 46,
   "metadata": {
    "collapsed": false
   },
   "outputs": [
    {
     "name": "stdout",
     "output_type": "stream",
     "text": [
      "8 1\n"
     ]
    }
   ],
   "source": [
    "print string, len(string)"
   ]
  },
  {
   "cell_type": "markdown",
   "metadata": {},
   "source": [
    "Even strings that are completely empty have a length (equal to zero). "
   ]
  },
  {
   "cell_type": "code",
   "execution_count": 53,
   "metadata": {
    "collapsed": false,
    "slideshow": {
     "slide_type": "-"
    }
   },
   "outputs": [
    {
     "name": "stdout",
     "output_type": "stream",
     "text": [
      "0\n"
     ]
    }
   ],
   "source": [
    "string = \"\"\n",
    "print len(string)"
   ]
  },
  {
   "cell_type": "markdown",
   "metadata": {},
   "source": [
    "#### Aside:\n",
    "Do __int__ or __flt__ types have a length?"
   ]
  },
  {
   "cell_type": "markdown",
   "metadata": {},
   "source": [
    "## Variables that have a lenth are __indexable__!\n",
    "Just as the title says, variables that have a length (such as a __str__ variable) can be indexed. What that means is that we can look at the individual components of such a variable by 'slicing' through it. Let's look at an example:"
   ]
  },
  {
   "cell_type": "code",
   "execution_count": 58,
   "metadata": {
    "collapsed": false
   },
   "outputs": [
    {
     "name": "stdout",
     "output_type": "stream",
     "text": [
      "h e   w\n"
     ]
    }
   ],
   "source": [
    "string = \"hello world\"\n",
    "print string[0], string[1], string[5], string[6]"
   ]
  },
  {
   "cell_type": "markdown",
   "metadata": {},
   "source": [
    "### Note: Indexing in Python is always zero-indexed, meaning that the first element in the string variable has an index of 0. The index of the last element in the string variable is always equal to len(str) - 1.\n",
    "Additionally, indices can only be integers."
   ]
  },
  {
   "cell_type": "code",
   "execution_count": 59,
   "metadata": {
    "collapsed": false
   },
   "outputs": [
    {
     "name": "stdout",
     "output_type": "stream",
     "text": [
      "8 8.0000000001\n",
      "r\n"
     ]
    },
    {
     "ename": "TypeError",
     "evalue": "string indices must be integers, not float",
     "output_type": "error",
     "traceback": [
      "\u001b[0;31m---------------------------------------------------------------------------\u001b[0m",
      "\u001b[0;31mTypeError\u001b[0m                                 Traceback (most recent call last)",
      "\u001b[0;32m<ipython-input-59-11bda9908391>\u001b[0m in \u001b[0;36m<module>\u001b[0;34m()\u001b[0m\n\u001b[1;32m      1\u001b[0m \u001b[0;32mprint\u001b[0m \u001b[0minteger\u001b[0m\u001b[0;34m,\u001b[0m \u001b[0mfloat\u001b[0m\u001b[0;34m\u001b[0m\u001b[0m\n\u001b[1;32m      2\u001b[0m \u001b[0;32mprint\u001b[0m \u001b[0mstring\u001b[0m\u001b[0;34m[\u001b[0m\u001b[0minteger\u001b[0m\u001b[0;34m]\u001b[0m\u001b[0;34m\u001b[0m\u001b[0m\n\u001b[0;32m----> 3\u001b[0;31m \u001b[0;32mprint\u001b[0m \u001b[0mstring\u001b[0m\u001b[0;34m[\u001b[0m\u001b[0mfloat\u001b[0m\u001b[0;34m]\u001b[0m\u001b[0;34m\u001b[0m\u001b[0m\n\u001b[0m",
      "\u001b[0;31mTypeError\u001b[0m: string indices must be integers, not float"
     ]
    }
   ],
   "source": [
    "print integer, float\n",
    "print string[integer]\n",
    "print string[float]"
   ]
  },
  {
   "cell_type": "markdown",
   "metadata": {},
   "source": [
    "## Other Variable Types: Lists\n",
    "In addition to the variable types presented above, Python also has the capability to create variables that are lists that act as a collection of values. Each element in a list can be any type of variable (yes, you can have lists of lists...). Let's have an example:  "
   ]
  },
  {
   "cell_type": "code",
   "execution_count": 50,
   "metadata": {
    "collapsed": false
   },
   "outputs": [
    {
     "name": "stdout",
     "output_type": "stream",
     "text": [
      "['a', 0, 8.000001] <type 'list'>\n"
     ]
    }
   ],
   "source": [
    "list = [\"a\",0,8.000001]\n",
    "print list, type(list)"
   ]
  },
  {
   "cell_type": "markdown",
   "metadata": {},
   "source": [
    "### Lists also have length!"
   ]
  },
  {
   "cell_type": "code",
   "execution_count": 60,
   "metadata": {
    "collapsed": false
   },
   "outputs": [
    {
     "name": "stdout",
     "output_type": "stream",
     "text": [
      "3\n"
     ]
    }
   ],
   "source": [
    "print len(list)"
   ]
  },
  {
   "cell_type": "markdown",
   "metadata": {},
   "source": [
    "### Lists are also indexable!\n",
    "Similar to a __str__ variable, a list can be sliced using indices. "
   ]
  },
  {
   "cell_type": "code",
   "execution_count": 51,
   "metadata": {
    "collapsed": false
   },
   "outputs": [
    {
     "name": "stdout",
     "output_type": "stream",
     "text": [
      "a 8.000001\n"
     ]
    }
   ],
   "source": [
    "print list[0], list[2]"
   ]
  },
  {
   "cell_type": "markdown",
   "metadata": {},
   "source": [
    "#### Aside:\n",
    "Explain this:"
   ]
  },
  {
   "cell_type": "code",
   "execution_count": 52,
   "metadata": {
    "collapsed": false
   },
   "outputs": [
    {
     "name": "stdout",
     "output_type": "stream",
     "text": [
      "a\n"
     ]
    }
   ],
   "source": [
    "print list[0][0]"
   ]
  },
  {
   "cell_type": "markdown",
   "metadata": {},
   "source": [
    "## For and While Loops\n",
    "Within Python, there are multiple ways to iteratively loop over a piece of code and perform the code on each iteration. This is highly desirable especially when you have a large dataset and each point needs to be accounted for.  To perform such an iterative analysis, either a for or a while loop can be used. "
   ]
  },
  {
   "cell_type": "markdown",
   "metadata": {},
   "source": [
    "### The For Loop\n",
    "An example first:"
   ]
  },
  {
   "cell_type": "code",
   "execution_count": 64,
   "metadata": {
    "collapsed": false
   },
   "outputs": [
    {
     "name": "stdout",
     "output_type": "stream",
     "text": [
      "hello world\n",
      "h\n",
      "e\n",
      "l\n",
      "l\n",
      "o\n",
      " \n",
      "w\n",
      "o\n",
      "r\n",
      "l\n",
      "d\n"
     ]
    }
   ],
   "source": [
    "print string\n",
    "for character in string:\n",
    "    print character"
   ]
  },
  {
   "cell_type": "markdown",
   "metadata": {},
   "source": [
    "The general structure of a for loop is: __for__ _newVariable_ __in__ _originalVariable_ __:__\n",
    "\n",
    "Note: _originalVariable_ needs to be a variable type that is indexable (aka has a length). When using a for loop, you are assigning a value to the _newVariable_ that is equal to a value within the _originalVariable_. This is done iteratively, starting at the first index of _originalVariable_ and ending with the last index. \n",
    "\n",
    "Another example:   "
   ]
  },
  {
   "cell_type": "code",
   "execution_count": 66,
   "metadata": {
    "collapsed": false
   },
   "outputs": [
    {
     "name": "stdout",
     "output_type": "stream",
     "text": [
      "['a', 0, 8.000001]\n",
      "a <type 'str'>\n",
      "0 <type 'int'>\n",
      "8.000001 <type 'float'>\n"
     ]
    }
   ],
   "source": [
    "print list\n",
    "for a in list:\n",
    "    print a, type(a)"
   ]
  },
  {
   "cell_type": "markdown",
   "metadata": {},
   "source": [
    "#### Note: avoid reusing variable names in for loops. For example,"
   ]
  },
  {
   "cell_type": "code",
   "execution_count": 67,
   "metadata": {
    "collapsed": false
   },
   "outputs": [
    {
     "name": "stdout",
     "output_type": "stream",
     "text": [
      "hello world\n",
      "8.000001\n"
     ]
    }
   ],
   "source": [
    "variable = \"hello world\"\n",
    "print variable\n",
    "for variable in list:\n",
    "    continue\n",
    "print variable"
   ]
  },
  {
   "cell_type": "markdown",
   "metadata": {},
   "source": [
    "### The While Loop\n",
    "An example first:"
   ]
  },
  {
   "cell_type": "code",
   "execution_count": 69,
   "metadata": {
    "collapsed": false
   },
   "outputs": [
    {
     "name": "stdout",
     "output_type": "stream",
     "text": [
      "0\n",
      "a <type 'str'>\n",
      "0 <type 'int'>\n",
      "8.000001 <type 'float'>\n",
      "3 3\n"
     ]
    }
   ],
   "source": [
    "iteration = 0\n",
    "print iteration\n",
    "while iteration < len(list):\n",
    "    print list[iteration], type(list[iteration])\n",
    "    iteration += 1\n",
    "print iteration, len(list)"
   ]
  },
  {
   "cell_type": "markdown",
   "metadata": {},
   "source": [
    "The general structure of a while loop is: __while__ _booleanTest_ __:__ \n",
    "\n",
    "Unlike for loops, while loops rely on the use of Boolean tests (aka True/False testing). In the above example, the while loop stops iterating over the code once the boolean test (_iteration < len(list)_) returns False. If no False is ever returned by the boolean test, then the code will continue iterating for forever."
   ]
  },
  {
   "cell_type": "markdown",
   "metadata": {},
   "source": [
    "## If Statements\n",
    "Similar to while loops, __if__ statements utilize boolean tests to act like a light switch: if the boolean test returns True,  then the underlying code is performed. If the boolean test returns False, nothing is performed. An example:"
   ]
  },
  {
   "cell_type": "code",
   "execution_count": 71,
   "metadata": {
    "collapsed": false
   },
   "outputs": [
    {
     "name": "stdout",
     "output_type": "stream",
     "text": [
      "8 is indeed an integer\n"
     ]
    }
   ],
   "source": [
    "if type(integer) == int:\n",
    "    print integer, 'is indeed an integer'"
   ]
  },
  {
   "cell_type": "code",
   "execution_count": 74,
   "metadata": {
    "collapsed": false
   },
   "outputs": [
    {
     "name": "stdout",
     "output_type": "stream",
     "text": [
      "8.0000000001 is NOT an integer\n"
     ]
    }
   ],
   "source": [
    "if type(float) == int:\n",
    "    print float, 'is indeed an integer'\n",
    "else:\n",
    "    print float, 'is NOT an integer'"
   ]
  },
  {
   "cell_type": "code",
   "execution_count": 75,
   "metadata": {
    "collapsed": false
   },
   "outputs": [
    {
     "name": "stdout",
     "output_type": "stream",
     "text": [
      "8.0000000001 is NOT an integer NOR a string \n"
     ]
    }
   ],
   "source": [
    "if type(float) == int:\n",
    "    print float, 'is indeed an integer'\n",
    "elif type(float) == str:\n",
    "    print float, 'is NOT an integer but is a string'\n",
    "else:\n",
    "    print float, 'is NOT an integer NOR a string '"
   ]
  },
  {
   "cell_type": "markdown",
   "metadata": {},
   "source": [
    "#### Combining if statements with a for loop:"
   ]
  },
  {
   "cell_type": "code",
   "execution_count": 76,
   "metadata": {
    "collapsed": false
   },
   "outputs": [
    {
     "name": "stdout",
     "output_type": "stream",
     "text": [
      "a is NOT an integer but is a string\n",
      "0 is indeed an integer\n",
      "8.000001 is NOT an integer NOR a string\n"
     ]
    }
   ],
   "source": [
    "for a in list:\n",
    "    if type(a) == int:\n",
    "        print a, 'is indeed an integer'\n",
    "    elif type(a) == str:\n",
    "        print a, 'is NOT an integer but is a string'\n",
    "    else:\n",
    "        print a, 'is NOT an integer NOR a string'"
   ]
  },
  {
   "cell_type": "markdown",
   "metadata": {},
   "source": [
    "## Boolean Tests Come In Many Forms\n",
    "Boolean tests are important for both while loops and if statements. There are almost innumerable ways of performing boolean tests within Python. The most basic forms of boolean tests use the standard less than, greater than, equal to signage of <, >, == (don't forget <=, >=, !=). As mentioned earlier, binary values can be interpreted as booleans (0 = False, 1 = True). You can also test to see if a value is within an indexable variable! "
   ]
  },
  {
   "cell_type": "code",
   "execution_count": 79,
   "metadata": {
    "collapsed": false
   },
   "outputs": [
    {
     "name": "stdout",
     "output_type": "stream",
     "text": [
      "hello world has world in it\n"
     ]
    }
   ],
   "source": [
    "if 'world' in string:\n",
    "    print string, 'has world in it'"
   ]
  }
 ],
 "metadata": {
  "kernelspec": {
   "display_name": "Python 2",
   "language": "python",
   "name": "python2"
  },
  "language_info": {
   "codemirror_mode": {
    "name": "ipython",
    "version": 2
   },
   "file_extension": ".py",
   "mimetype": "text/x-python",
   "name": "python",
   "nbconvert_exporter": "python",
   "pygments_lexer": "ipython2",
   "version": "2.7.11"
  }
 },
 "nbformat": 4,
 "nbformat_minor": 0
}
